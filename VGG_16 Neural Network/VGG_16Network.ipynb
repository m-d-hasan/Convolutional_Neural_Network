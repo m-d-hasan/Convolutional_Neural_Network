{
 "cells": [
  {
   "cell_type": "markdown",
   "metadata": {},
   "source": [
    "# Import packages from Keras"
   ]
  },
  {
   "cell_type": "code",
   "execution_count": 34,
   "metadata": {},
   "outputs": [],
   "source": [
    "from keras.models import Sequential\n",
    "from keras.layers import Conv2D, MaxPooling2D, Flatten\n",
    "from keras.layers import Dense, Activation, Dropout\n"
   ]
  },
  {
   "cell_type": "code",
   "execution_count": 41,
   "metadata": {},
   "outputs": [],
   "source": [
    "def Model(input_shape):\n",
    "    \n",
    "    model = Sequential()\n",
    "    \n",
    "    #First two conV layers used 64 filter\n",
    "    model.add(Conv2D(64, (3, 3), input_shape=input_shape, padding='same',\n",
    "           activation='relu') )\n",
    "    \n",
    "    model.add( Conv2D(64, (3, 3), activation='relu', padding='same') )\n",
    "    model.add( MaxPooling2D(pool_size=(2, 2), strides=(2, 2)) )\n",
    "    \n",
    "    #Second conV layers used 128 filter\n",
    "    model.add( Conv2D(128, (3, 3), activation='relu', padding='same') )\n",
    "    model.add(Conv2D(128, (3, 3), activation='relu', padding='same') )\n",
    "    model.add( MaxPooling2D(pool_size=(2, 2), strides=(2, 2)) )\n",
    "    \n",
    "    #Third conV layers used 256 filter\n",
    "    model.add(  Conv2D(256, (3, 3), activation='relu', padding='same') )\n",
    "    model.add(  Conv2D(256, (3, 3), activation='relu', padding='same'))\n",
    "    model.add(  Conv2D(256, (3, 3), activation='relu', padding='same') )\n",
    "    model.add(  MaxPooling2D(pool_size=(2, 2), strides=(2, 2)) )\n",
    "    \n",
    "    #Fourth conV layers used 512 filter\n",
    "    model.add(  Conv2D(512, (3, 3), activation='relu', padding='same') )\n",
    "    model.add( Conv2D(512, (3, 3), activation='relu', padding='same') )\n",
    "    model.add( Conv2D(512, (3, 3), activation='relu', padding='same'))\n",
    "    model.add( MaxPooling2D(pool_size=(2, 2), strides=(2, 2)) )\n",
    "    \n",
    "    model.add( Conv2D(512, (3, 3), activation='relu', padding='same') )\n",
    "    model.add( Conv2D(512, (3, 3), activation='relu', padding='same'))\n",
    "    model.add( Conv2D(512, (3, 3), activation='relu', padding='same'))\n",
    "    model.add( MaxPooling2D(pool_size=(2, 2), strides=(2, 2)))\n",
    "    \n",
    "    model.add(Flatten())\n",
    "    \n",
    "    model.add(Dense(4096, activation='relu'))\n",
    "    model.add( Dense(4096, activation='relu'))\n",
    "    model.add( Dense(1000, activation='softmax'))\n",
    "    \n",
    "    return model"
   ]
  },
  {
   "cell_type": "code",
   "execution_count": 43,
   "metadata": {},
   "outputs": [],
   "source": [
    "model = Model( (224, 224, 3))"
   ]
  },
  {
   "cell_type": "code",
   "execution_count": 44,
   "metadata": {},
   "outputs": [
    {
     "name": "stdout",
     "output_type": "stream",
     "text": [
      "_________________________________________________________________\n",
      "Layer (type)                 Output Shape              Param #   \n",
      "=================================================================\n",
      "conv2d_62 (Conv2D)           (None, 224, 224, 64)      1792      \n",
      "_________________________________________________________________\n",
      "conv2d_63 (Conv2D)           (None, 224, 224, 64)      36928     \n",
      "_________________________________________________________________\n",
      "max_pooling2d_24 (MaxPooling (None, 112, 112, 64)      0         \n",
      "_________________________________________________________________\n",
      "conv2d_64 (Conv2D)           (None, 112, 112, 128)     73856     \n",
      "_________________________________________________________________\n",
      "conv2d_65 (Conv2D)           (None, 112, 112, 128)     147584    \n",
      "_________________________________________________________________\n",
      "max_pooling2d_25 (MaxPooling (None, 56, 56, 128)       0         \n",
      "_________________________________________________________________\n",
      "conv2d_66 (Conv2D)           (None, 56, 56, 256)       295168    \n",
      "_________________________________________________________________\n",
      "conv2d_67 (Conv2D)           (None, 56, 56, 256)       590080    \n",
      "_________________________________________________________________\n",
      "conv2d_68 (Conv2D)           (None, 56, 56, 256)       590080    \n",
      "_________________________________________________________________\n",
      "max_pooling2d_26 (MaxPooling (None, 28, 28, 256)       0         \n",
      "_________________________________________________________________\n",
      "conv2d_69 (Conv2D)           (None, 28, 28, 512)       1180160   \n",
      "_________________________________________________________________\n",
      "conv2d_70 (Conv2D)           (None, 28, 28, 512)       2359808   \n",
      "_________________________________________________________________\n",
      "conv2d_71 (Conv2D)           (None, 28, 28, 512)       2359808   \n",
      "_________________________________________________________________\n",
      "max_pooling2d_27 (MaxPooling (None, 14, 14, 512)       0         \n",
      "_________________________________________________________________\n",
      "conv2d_72 (Conv2D)           (None, 14, 14, 512)       2359808   \n",
      "_________________________________________________________________\n",
      "conv2d_73 (Conv2D)           (None, 14, 14, 512)       2359808   \n",
      "_________________________________________________________________\n",
      "conv2d_74 (Conv2D)           (None, 14, 14, 512)       2359808   \n",
      "_________________________________________________________________\n",
      "max_pooling2d_28 (MaxPooling (None, 7, 7, 512)         0         \n",
      "_________________________________________________________________\n",
      "flatten_5 (Flatten)          (None, 25088)             0         \n",
      "_________________________________________________________________\n",
      "dense_13 (Dense)             (None, 4096)              102764544 \n",
      "_________________________________________________________________\n",
      "dense_14 (Dense)             (None, 4096)              16781312  \n",
      "_________________________________________________________________\n",
      "dense_15 (Dense)             (None, 1000)              4097000   \n",
      "=================================================================\n",
      "Total params: 138,357,544\n",
      "Trainable params: 138,357,544\n",
      "Non-trainable params: 0\n",
      "_________________________________________________________________\n"
     ]
    }
   ],
   "source": [
    "model.summary()"
   ]
  },
  {
   "cell_type": "code",
   "execution_count": null,
   "metadata": {},
   "outputs": [],
   "source": []
  }
 ],
 "metadata": {
  "kernelspec": {
   "display_name": "Python 3",
   "language": "python",
   "name": "python3"
  },
  "language_info": {
   "codemirror_mode": {
    "name": "ipython",
    "version": 3
   },
   "file_extension": ".py",
   "mimetype": "text/x-python",
   "name": "python",
   "nbconvert_exporter": "python",
   "pygments_lexer": "ipython3",
   "version": "3.6.4"
  }
 },
 "nbformat": 4,
 "nbformat_minor": 2
}
